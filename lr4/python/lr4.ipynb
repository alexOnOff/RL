{
 "cells": [
  {
   "cell_type": "code",
   "execution_count": 13,
   "metadata": {},
   "outputs": [],
   "source": [
    "import numpy as np\n",
    "import matplotlib.pyplot as plt\n",
    "from mpl_toolkits import mplot3d"
   ]
  },
  {
   "cell_type": "code",
   "execution_count": 67,
   "metadata": {},
   "outputs": [
    {
     "name": "stdout",
     "output_type": "stream",
     "text": [
      "[[-0.0943, -0.22, -0.25, -0.263, -0.439, -0.545, -0.417, 0.267, 0.623, 1.0], [-0.06, -0.32, -0.342, -0.419, -0.303, -0.509, -0.492, 0.221, 0.551, 1.0], [0.0319, -0.098, -0.214, -0.362, -0.279, -0.562, -0.539, 0.333, 0.605, 1.0], [-0.0268, -0.0729, -0.018, -0.157, -0.36, -0.493, -0.436, 0.455, 0.693, 1.0], [-0.133, -0.176, -0.342, -0.263, -0.429, -0.555, -0.432, 0.517, 0.678, 1.0], [-0.111, -0.0965, -0.236, -0.345, -0.319, -0.387, -0.364, 0.481, 0.729, 1.0], [-0.0787, -0.186, -0.273, -0.325, -0.438, -0.345, -0.518, 0.638, 0.683, 1.0], [-0.15, -0.0377, -0.231, -0.252, -0.352, -0.525, -0.489, 0.0, 1.0, 1.0], [-0.439, -0.491, -0.565, -0.586, -0.584, -0.678, -0.667, -1.0, 0.0, 1.0], [-1.0, -1.0, -1.0, -1.0, -1.0, -1.0, -1.0, -1.0, -1.0, 0.0]]\n"
     ]
    }
   ],
   "source": [
    "with open('../../bin/data.txt', 'r') as f:\n",
    "    data = [[float(num) for num in line.split(' ')] for line in f]\n",
    "print(data)"
   ]
  },
  {
   "cell_type": "code",
   "execution_count": 63,
   "metadata": {},
   "outputs": [],
   "source": [
    "def surface_plot (matrix, **kwargs):\n",
    "\n",
    "    (x, y) = np.meshgrid(np.arange(matrix.shape[0]), np.arange(matrix.shape[1]))\n",
    "    fig = plt.figure()\n",
    "    ax = fig.add_subplot(111, projection='3d')\n",
    "    ax.view_init(46, 210)\n",
    "    surf = ax.plot_surface(x, y, matrix, **kwargs)\n",
    "    return (fig, ax, surf)"
   ]
  },
  {
   "cell_type": "code",
   "execution_count": null,
   "metadata": {},
   "outputs": [],
   "source": [
    "npdata = np.array(data)\n",
    "\n",
    "(fig, ax, surf) = surface_plot(npdata, cmap=plt.cm.coolwarm)\n",
    "\n",
    "fig.colorbar(surf)\n",
    "\n",
    "ax.set_xlabel('Player')\n",
    "ax.set_ylabel('Dealer')\n",
    "ax.set_zlabel('Z (values)')\n",
    "\n",
    "plt.show()"
   ]
  },
  {
   "cell_type": "markdown",
   "metadata": {},
   "source": [
    "10000 эпизодов без играющего туза\n",
    "\n",
    "![10000 эпизодов без играющего туза](img/img1.png)"
   ]
  },
  {
   "cell_type": "markdown",
   "metadata": {},
   "source": [
    "500000 эпизодов без играющего туза\n",
    "\n",
    "![500000 эпизодов без играющего туза](img/img2.png)"
   ]
  },
  {
   "cell_type": "markdown",
   "metadata": {},
   "source": [
    "10000 эпизодов с играющим тузом\n",
    "\n",
    "![10000 эпизодов с играющим тузом](img/img3.png)"
   ]
  },
  {
   "cell_type": "markdown",
   "metadata": {},
   "source": [
    "500000 эпизодов с играющим тузом\n",
    "\n",
    "![500000 эпизодов с играющим тузом](img/img4.png)"
   ]
  }
 ],
 "metadata": {
  "kernelspec": {
   "display_name": "Python 3",
   "language": "python",
   "name": "python3"
  },
  "language_info": {
   "codemirror_mode": {
    "name": "ipython",
    "version": 3
   },
   "file_extension": ".py",
   "mimetype": "text/x-python",
   "name": "python",
   "nbconvert_exporter": "python",
   "pygments_lexer": "ipython3",
   "version": "3.9.13"
  }
 },
 "nbformat": 4,
 "nbformat_minor": 2
}
